{
 "cells": [
  {
   "cell_type": "code",
   "execution_count": null,
   "id": "9fd7f89b",
   "metadata": {},
   "outputs": [],
   "source": [
    "# importing dependencies\n",
    "using CSV\n",
    "using DataFrames\n",
    "include(\"MIA.jl\")\n",
    "using Base, LinearAlgebra, SpecialFunctions, SciPy\n",
    "using Plots\n",
    "using DataFrames"
   ]
  },
  {
   "cell_type": "code",
   "execution_count": null,
   "id": "d6e1d532",
   "metadata": {},
   "outputs": [],
   "source": [
    "# ordinary differential equation (ODE) solvers to perform the time-integration\n",
    "\n",
    "function TimeStepper(f, t_range, y0, dt; method=\"ExplicitEuler\", t_eval=nothing)\n",
    "    y0_shape = size(y0)\n",
    "    t = t_range[1]:dt:t_range[2]\n",
    "    if ndims(y0) == 2\n",
    "        y = zeros(Float64, length(t), y0_shape[1], y0_shape[2])\n",
    "    elseif ndims(y0) == 1\n",
    "        y = zeros(Float64, length(t), y0_shape[1])\n",
    "    end\n",
    "    y[1, :] .= y0\n",
    "\n",
    "    if method == \"ExplicitEuler\"\n",
    "        for n in 1:length(t)-1\n",
    "            t_n = t[n]\n",
    "            y_n = f(t_n, y[n, :]) * dt + y[n, :]\n",
    "            y[n + 1, :] .= y_n\n",
    "        end\n",
    "    else\n",
    "        error(\"Unsupported method: $method\")\n",
    "    end\n",
    "    return (t=t, y=y)  \n",
    "end"
   ]
  },
  {
   "cell_type": "code",
   "execution_count": null,
   "id": "d8f25f02",
   "metadata": {},
   "outputs": [],
   "source": [
    "# Parameters to be set by the user\n",
    "n0 = 1.0 # Initial total number density\n",
    "v0 = 1.0 # System constant\n",
    "N = 3 # Order of approximation / number of nodes\n",
    "dimension = 3 # Set to 3 if the internal coordinate is additive, set to 1 if the internal coordinate is length\n",
    "method = \"ExplicitEuler\" # Time-integration scheme, choose from: 'RK45', 'RK23', 'Radau', 'BDF', 'LSODA', 'ExplicitEuler', 'ImplicitEuler', 'Trapezoidal'\n",
    "t_range = [0.0, 10] # Start and end times\n",
    "dt = 0.001 # Neccessary if using explicit Euler, implicit Euler or Trapezoidal\n",
    "\n",
    "# Initial values of the moments, default values are same as used in report for homogeneous case\n",
    "m_init = [n0 * v0^((i-1)/3) * gamma(1 + (i-1)/3) for i in 1:2*N]"
   ]
  },
  {
   "cell_type": "code",
   "execution_count": null,
   "id": "0e3b08b1",
   "metadata": {},
   "outputs": [],
   "source": [
    "# Dependence of the source terms on the internal coordinate - nodes is an array of size N\n",
    "\n",
    "#defing kernel \n",
    "\n",
    "function kernel_a(node_i, node_j) # Aggregation kernel\n",
    "    return 1\n",
    "end\n",
    "\n",
    "aggreg = zeros(2 * N) #initialization\n",
    "\n",
    "# fitting source term in gaussian approximation\n",
    "\n",
    "function source(t, m)\n",
    "    Realisable(m, N)\n",
    "    weights, nodes = Prod_Diff(m, N)\n",
    "\n",
    "    for k in 1:2 * N\n",
    "\n",
    "        for i in 1:N\n",
    "            for j in 1:N\n",
    "                aggreg[k] += ((nodes[i] ^ 3 + nodes[j] ^ 3) ^ ((k-1) / 3) - nodes[i] ^ (k-1) - nodes[j] ^ (k-1)) * kernel_a(nodes[i], nodes[j]) * weights[i] * weights[j]\n",
    "            end\n",
    "        end\n",
    "\n",
    "        aggreg[k] *= 0.5\n",
    "    end\n",
    "\n",
    "\n",
    "    return aggreg\n",
    "end\n",
    "\n"
   ]
  },
  {
   "cell_type": "code",
   "execution_count": null,
   "id": "29bd15cf",
   "metadata": {},
   "outputs": [],
   "source": [
    "sol = TimeStepper(source, t_range, m_init, dt, method=method)\n",
    "CSV.write(\"output_agg_jl.csv\",DataFrame(hcat(sol.y),:auto))\n",
    "df = CSV.File(\"output_agg_jl.csv\") |> DataFrame"
   ]
  },
  {
   "cell_type": "code",
   "execution_count": null,
   "id": "450c2bbc",
   "metadata": {},
   "outputs": [],
   "source": [
    "# Iterate over columns and plot\n",
    "for i in 1:length(names(df))\n",
    "    column_name = names(df)[i]\n",
    "    constant = m_init[i]\n",
    "    \n",
    "    # Convert the y-axis data to a numerical type\n",
    "    y_data = df[!, column_name] / constant\n",
    "    \n",
    "    plot(1:size(df, 1), y_data, label=\"QMOM\")\n",
    "    # Add labels \n",
    "    xlabel!(\"Index\")\n",
    "    ylabel!(\"m_$(i-1) / m_0($(i-1))\")\n",
    "\n",
    "\n",
    "    # Show the plot\n",
    "    display(Plots.plot!()) \n",
    "end"
   ]
  },
  {
   "cell_type": "code",
   "execution_count": null,
   "id": "43ebdf25",
   "metadata": {},
   "outputs": [],
   "source": []
  }
 ],
 "metadata": {
  "kernelspec": {
   "display_name": "Julia 1.9.3",
   "language": "julia",
   "name": "julia-1.9"
  },
  "language_info": {
   "file_extension": ".jl",
   "mimetype": "application/julia",
   "name": "julia",
   "version": "1.9.3"
  }
 },
 "nbformat": 4,
 "nbformat_minor": 5
}
