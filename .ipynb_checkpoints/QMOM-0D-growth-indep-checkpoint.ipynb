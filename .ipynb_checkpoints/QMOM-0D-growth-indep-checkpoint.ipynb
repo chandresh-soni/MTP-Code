{
 "cells": [
  {
   "cell_type": "code",
   "execution_count": null,
   "id": "169672e5",
   "metadata": {},
   "outputs": [],
   "source": [
    "# importing dependencies\n",
    "using CSV\n",
    "using DataFrames\n",
    "using Plots\n",
    "include(\"MIA.jl\")\n",
    "using Base, LinearAlgebra, SpecialFunctions, SciPy"
   ]
  },
  {
   "cell_type": "code",
   "execution_count": null,
   "id": "80fc2069",
   "metadata": {},
   "outputs": [],
   "source": [
    "function TimeStepper(f, t_range, y0, dt; method=\"ExplicitEuler\", t_eval=nothing)\n",
    "    y0_shape = size(y0)\n",
    "    t = t_range[1]:dt:t_range[2]\n",
    "\n",
    "    if ndims(y0) == 2\n",
    "        y = zeros(Float64, length(t), y0_shape[1], y0_shape[2])\n",
    "    elseif ndims(y0) == 1\n",
    "        y = zeros(Float64, length(t), y0_shape[1])\n",
    "    end\n",
    "\n",
    "    y[1, :] .= y0\n",
    "\n",
    "   if method == \"ExplicitEuler\"\n",
    "        for n in 1:length(t)-1\n",
    "            t_n = t[n]\n",
    "            y_n = f(t_n, y[n, :]) * dt + y[n, :]\n",
    "            y[n + 1, :] .= y_n\n",
    "        end\n",
    "    else\n",
    "        error(\"Unsupported method: $method\")\n",
    "    end\n",
    "\n",
    "    return (t=t, y=y)\n",
    "end"
   ]
  },
  {
   "cell_type": "code",
   "execution_count": null,
   "id": "979d945d",
   "metadata": {},
   "outputs": [],
   "source": [
    "# Parameters to be set by the user\n",
    "n0 = 1.0 # Initial total number density\n",
    "v0 = 1.0 # System constant\n",
    "N = 3 # Order of approximation / number of nodes\n",
    "dimension = 3 # Set to 3 if the internal coordinate is additive, set to 1 if the internal coordinate is length\n",
    "method = \"ExplicitEuler\" # Time-integration scheme, choose from: 'RK45', 'RK23', 'Radau', 'BDF', 'LSODA', 'ExplicitEuler', 'ImplicitEuler', 'Trapezoidal'\n",
    "t_range = [0.0, 10] # Start and end times\n",
    "dt = 0.001 # Neccessary if using explicit Euler, implicit Euler or Trapezoidal\n",
    "\n",
    "# Initial values of the moments, default values are same as used in report for homogeneous case\n",
    "m_init = [n0 * v0^((i-1)/3) * gamma(1 + (i-1)/3) for i in 1:2*N]\n",
    "println(\"m_init\",m_init)"
   ]
  },
  {
   "cell_type": "code",
   "execution_count": null,
   "id": "e8664019",
   "metadata": {},
   "outputs": [],
   "source": [
    "\n",
    "# Dependence of the source terms on the internal coordinate - nodes is an array of size N\n",
    "function growth_rate(nodes)\n",
    "    return ones(length(nodes))\n",
    "end\n",
    "\n",
    "growth = zeros(2 * N)\n",
    "\n",
    "function source(t, m)\n",
    "    Realisable(m, N)\n",
    "    weights, nodes = Prod_Diff(m, N)\n",
    "\n",
    " \n",
    "\n",
    "    for k in 1:2 * N\n",
    "        if k > 1\n",
    "            growth[k] = (k-1) * sum(nodes .^ (k - 2) .* weights .* growth_rate(nodes))\n",
    "        end\n",
    "\n",
    "    end\n",
    "\n",
    "    return growth\n",
    "end"
   ]
  },
  {
   "cell_type": "code",
   "execution_count": null,
   "id": "fe949f97",
   "metadata": {},
   "outputs": [],
   "source": [
    "sol = TimeStepper(source, t_range, m_init, dt, method=method)\n",
    "CSV.write(\"output_indep_jl.csv\", DataFrame(hcat(sol.y),:auto))\n",
    "df = CSV.File(\"output_indep_jl.csv\") |> DataFrame"
   ]
  },
  {
   "cell_type": "code",
   "execution_count": null,
   "id": "ab9ed22e",
   "metadata": {},
   "outputs": [],
   "source": [
    "# Iterate over columns and plot\n",
    "for i in 1:length(names(df))\n",
    "    column_name = names(df)[i]\n",
    "    constant = m_init[i]\n",
    "    \n",
    "    # Convert the y-axis data to a numerical type\n",
    "    y_data = df[!, column_name] / constant\n",
    "    \n",
    "    plot(1:size(df, 1), y_data, label=\"QMOM\")\n",
    "    # Add labels \n",
    "    xlabel!(\"Index\")\n",
    "    ylabel!(\"m_$(i-1) / m_0($(i-1))\")\n",
    "\n",
    "\n",
    "    # Show the plot\n",
    "    display(Plots.plot!()) \n",
    "end"
   ]
  },
  {
   "cell_type": "code",
   "execution_count": null,
   "id": "54fa0d63",
   "metadata": {},
   "outputs": [],
   "source": []
  },
  {
   "cell_type": "code",
   "execution_count": null,
   "id": "0086c761",
   "metadata": {},
   "outputs": [],
   "source": []
  }
 ],
 "metadata": {
  "kernelspec": {
   "display_name": "Julia 1.9.3",
   "language": "julia",
   "name": "julia-1.9"
  },
  "language_info": {
   "file_extension": ".jl",
   "mimetype": "application/julia",
   "name": "julia",
   "version": "1.9.3"
  }
 },
 "nbformat": 4,
 "nbformat_minor": 5
}
